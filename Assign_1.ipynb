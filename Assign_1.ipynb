{
 "cells": [
  {
   "cell_type": "markdown",
   "id": "26106982-b7fa-4351-a5b0-77e2665f81e2",
   "metadata": {},
   "source": [
    "1) \n",
    "Tuples are ordered, immutable sequences in Python. Here are the key characteristics of tuples:\n",
    "\n",
    "Ordering: Tuples maintain the order of elements they contain. The order in which elements are added to a tuple is preserved and can be accessed using indexing.\n",
    "\n",
    "Immutable: Tuples are immutable, meaning once a tuple is created, its elements cannot be modified or reassigned. However, if a tuple contains mutable objects (e.g., lists), the objects themselves can be modified.\n",
    "\n",
    "Heterogeneous: Tuples can store elements of different data types. For example, a tuple can contain integers, strings, floats, or even other tuples."
   ]
  },
  {
   "cell_type": "markdown",
   "id": "9a054abf-eb02-4ce7-8394-2005b2fe421d",
   "metadata": {},
   "source": [
    "2)\n",
    "In Python, tuples have two built-in methods:\n",
    "\n",
    "count(value): This method returns the number of times a specified value appears in the tuple.\n",
    "Example:\n"
   ]
  },
  {
   "cell_type": "markdown",
   "id": "28d87d19-b70b-429b-bd44-e3050b9463e4",
   "metadata": {},
   "source": [
    "my_tuple = (1, 2, 3, 2, 4, 2)\n",
    "count = my_tuple.count(2)\n",
    "print(count)  \n"
   ]
  },
  {
   "cell_type": "markdown",
   "id": "026a0c7b-27e4-48ff-ba76-684e841325fc",
   "metadata": {},
   "source": [
    "index(value): This method returns the index of the first occurrence of a specified value in the tuple."
   ]
  },
  {
   "cell_type": "code",
   "execution_count": 3,
   "id": "02906c0c-0815-42e8-95f5-79de927c4c8c",
   "metadata": {},
   "outputs": [
    {
     "name": "stdout",
     "output_type": "stream",
     "text": [
      "2\n"
     ]
    }
   ],
   "source": [
    "my_tuple = (1, 2, 3, 2, 4, 2)\n",
    "index = my_tuple.index(3)\n",
    "print(index)  "
   ]
  },
  {
   "cell_type": "markdown",
   "id": "cfde4373-787e-440a-bb26-c0b3886d56bc",
   "metadata": {},
   "source": [
    "## 4)\n",
    "a) union() method:\n",
    "The union() method returns a new set that contains all the unique elements from the original set(s) as well as the set(s) passed as arguments.\n",
    "The original sets remain unchanged.\n",
    "The union() method can also be achieved using the | operator.\n",
    "\n",
    "b) update() method:\n",
    "The update() method modifies the original set by adding all the elements from one or more sets to it.\n",
    "The elements from the set(s) passed as arguments are added to the original set.\n",
    "The update() method can also be achieved using the |= operator"
   ]
  },
  {
   "cell_type": "markdown",
   "id": "81a86383-3502-44fd-9b9b-03ba12bfb073",
   "metadata": {},
   "source": [
    "## 5)\n",
    "In Python, a dictionary is a built-in data structure that stores a collection of key-value pairs. Each key in the dictionary is unique, and it is used to access its associated value. Dictionaries are also sometimes referred to as associative arrays or hash maps in other programming languages.\n"
   ]
  },
  {
   "cell_type": "code",
   "execution_count": 4,
   "id": "9da554b7-affa-467a-8825-c2c2b98c36bd",
   "metadata": {},
   "outputs": [
    {
     "name": "stdout",
     "output_type": "stream",
     "text": [
      "John\n",
      "30\n",
      "New York\n"
     ]
    }
   ],
   "source": [
    "my_dict = {\n",
    "    \"name\": \"John\",\n",
    "    \"age\": 30,\n",
    "    \"city\": \"New York\"\n",
    "}\n",
    "\n",
    "print(my_dict[\"name\"])  # Output: John\n",
    "print(my_dict[\"age\"])  # Output: 30\n",
    "print(my_dict[\"city\"])  # Output: New York\n"
   ]
  },
  {
   "cell_type": "markdown",
   "id": "db8410d6-b004-4c76-a1be-f0f290af03db",
   "metadata": {},
   "source": [
    "## 6)\n",
    "Yes, it is possible to create a nested dictionary in Python. A nested dictionary is a dictionary where the values can be dictionaries themselves. This allows for the creation of more complex data structures with multiple levels of nesting."
   ]
  },
  {
   "cell_type": "code",
   "execution_count": 5,
   "id": "5df0b0b2-e003-40ba-920c-cf8c96da500c",
   "metadata": {},
   "outputs": [
    {
     "name": "stdout",
     "output_type": "stream",
     "text": [
      "John\n",
      "25\n",
      "New York\n"
     ]
    }
   ],
   "source": [
    "nested_dict = {\n",
    "    \"person1\": {\n",
    "        \"name\": \"John\",\n",
    "        \"age\": 30,\n",
    "        \"city\": \"New York\"\n",
    "    },\n",
    "    \"person2\": {\n",
    "        \"name\": \"Jane\",\n",
    "        \"age\": 25,\n",
    "        \"city\": \"London\"\n",
    "    }\n",
    "}\n",
    "\n",
    "print(nested_dict[\"person1\"][\"name\"])  \n",
    "print(nested_dict[\"person2\"][\"age\"])  \n",
    "print(nested_dict[\"person1\"][\"city\"]) \n"
   ]
  },
  {
   "cell_type": "markdown",
   "id": "1216d4e8-7b17-41b0-a21f-6b4100595760",
   "metadata": {},
   "source": [
    "## 8)\n",
    "keys() view: This view object returns a dynamic view of the keys in the dictionary.\n",
    "\n",
    "values() view: This view object returns a dynamic view of the values in the dictionary.\n",
    "\n",
    "items() view: This view object returns a dynamic view of the key-value pairs (as tuples) in the dictionary."
   ]
  },
  {
   "cell_type": "code",
   "execution_count": 7,
   "id": "f0a502ba-6eb6-4346-b687-b4e3b907b784",
   "metadata": {},
   "outputs": [
    {
     "name": "stdout",
     "output_type": "stream",
     "text": [
      "dict_keys(['Sport', 'Teams'])\n",
      "dict_values(['Cricket', ['India', 'Australia', 'England', 'South Africa', 'Sri Lanka', 'New Zealand']])\n",
      "dict_items([('Sport', 'Cricket'), ('Teams', ['India', 'Australia', 'England', 'South Africa', 'Sri Lanka', 'New Zealand'])])\n"
     ]
    }
   ],
   "source": [
    "dict1 = {\n",
    "    'Sport': 'Cricket',\n",
    "    'Teams': ['India', 'Australia', 'England', 'South Africa', 'Sri Lanka', 'New Zealand']\n",
    "}\n",
    "\n",
    "keys_view = dict1.keys()\n",
    "values_view = dict1.values()\n",
    "items_view = dict1.items()\n",
    "\n",
    "print(keys_view)  \n",
    "print(values_view)  \n",
    "print(items_view)  \n"
   ]
  },
  {
   "cell_type": "code",
   "execution_count": null,
   "id": "81b08a1a-f251-49ef-97d0-f259f99626f9",
   "metadata": {},
   "outputs": [],
   "source": []
  }
 ],
 "metadata": {
  "kernelspec": {
   "display_name": "Python 3 (ipykernel)",
   "language": "python",
   "name": "python3"
  },
  "language_info": {
   "codemirror_mode": {
    "name": "ipython",
    "version": 3
   },
   "file_extension": ".py",
   "mimetype": "text/x-python",
   "name": "python",
   "nbconvert_exporter": "python",
   "pygments_lexer": "ipython3",
   "version": "3.10.8"
  }
 },
 "nbformat": 4,
 "nbformat_minor": 5
}
